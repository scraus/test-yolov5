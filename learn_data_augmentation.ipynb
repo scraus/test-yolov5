{
  "nbformat": 4,
  "nbformat_minor": 0,
  "metadata": {
    "colab": {
      "name": "learn_data_augmentation.ipynb",
      "provenance": [],
      "collapsed_sections": [],
      "authorship_tag": "ABX9TyNhR/q1Z7uZE7B40kOLgD8u",
      "include_colab_link": true
    },
    "kernelspec": {
      "name": "python3",
      "display_name": "Python 3"
    },
    "language_info": {
      "name": "python"
    },
    "accelerator": "GPU"
  },
  "cells": [
    {
      "cell_type": "markdown",
      "metadata": {
        "id": "view-in-github",
        "colab_type": "text"
      },
      "source": [
        "<a href=\"https://colab.research.google.com/github/scraus/test-yolov5/blob/main/learn_data_augmentation.ipynb\" target=\"_parent\"><img src=\"https://colab.research.google.com/assets/colab-badge.svg\" alt=\"Open In Colab\"/></a>"
      ]
    },
    {
      "cell_type": "markdown",
      "source": [
        "Mount my GDrive and unzip my dataset"
      ],
      "metadata": {
        "id": "f4tgnCa_uOHB"
      }
    },
    {
      "cell_type": "code",
      "execution_count": 3,
      "metadata": {
        "colab": {
          "base_uri": "https://localhost:8080/"
        },
        "id": "VEd8IDRktZj4",
        "outputId": "bfefccf8-8f6c-41f0-9175-b8c74671d285"
      },
      "outputs": [
        {
          "output_type": "stream",
          "name": "stdout",
          "text": [
            "Mounted at /content/gdrive\n"
          ]
        }
      ],
      "source": [
        "from google.colab import drive \n",
        "drive.mount('/content/gdrive')"
      ]
    },
    {
      "cell_type": "markdown",
      "source": [
        "Data augmentation"
      ],
      "metadata": {
        "id": "uQTHTYMS2eGI"
      }
    },
    {
      "cell_type": "code",
      "source": [
        "!pip install tensorflow"
      ],
      "metadata": {
        "colab": {
          "base_uri": "https://localhost:8080/"
        },
        "id": "gnn_AFxdkVsd",
        "outputId": "296ca618-a8d5-4414-ef8b-1e6997801cd0"
      },
      "execution_count": 4,
      "outputs": [
        {
          "output_type": "stream",
          "name": "stdout",
          "text": [
            "Requirement already satisfied: tensorflow in /usr/local/lib/python3.7/dist-packages (2.8.0)\n",
            "Requirement already satisfied: h5py>=2.9.0 in /usr/local/lib/python3.7/dist-packages (from tensorflow) (3.1.0)\n",
            "Requirement already satisfied: gast>=0.2.1 in /usr/local/lib/python3.7/dist-packages (from tensorflow) (0.5.3)\n",
            "Requirement already satisfied: grpcio<2.0,>=1.24.3 in /usr/local/lib/python3.7/dist-packages (from tensorflow) (1.44.0)\n",
            "Requirement already satisfied: typing-extensions>=3.6.6 in /usr/local/lib/python3.7/dist-packages (from tensorflow) (4.2.0)\n",
            "Requirement already satisfied: flatbuffers>=1.12 in /usr/local/lib/python3.7/dist-packages (from tensorflow) (2.0)\n",
            "Requirement already satisfied: tensorboard<2.9,>=2.8 in /usr/local/lib/python3.7/dist-packages (from tensorflow) (2.8.0)\n",
            "Requirement already satisfied: numpy>=1.20 in /usr/local/lib/python3.7/dist-packages (from tensorflow) (1.21.6)\n",
            "Requirement already satisfied: absl-py>=0.4.0 in /usr/local/lib/python3.7/dist-packages (from tensorflow) (1.0.0)\n",
            "Requirement already satisfied: google-pasta>=0.1.1 in /usr/local/lib/python3.7/dist-packages (from tensorflow) (0.2.0)\n",
            "Requirement already satisfied: opt-einsum>=2.3.2 in /usr/local/lib/python3.7/dist-packages (from tensorflow) (3.3.0)\n",
            "Requirement already satisfied: astunparse>=1.6.0 in /usr/local/lib/python3.7/dist-packages (from tensorflow) (1.6.3)\n",
            "Requirement already satisfied: tensorflow-io-gcs-filesystem>=0.23.1 in /usr/local/lib/python3.7/dist-packages (from tensorflow) (0.25.0)\n",
            "Requirement already satisfied: termcolor>=1.1.0 in /usr/local/lib/python3.7/dist-packages (from tensorflow) (1.1.0)\n",
            "Collecting tf-estimator-nightly==2.8.0.dev2021122109\n",
            "  Downloading tf_estimator_nightly-2.8.0.dev2021122109-py2.py3-none-any.whl (462 kB)\n",
            "\u001b[K     |████████████████████████████████| 462 kB 5.2 MB/s \n",
            "\u001b[?25hRequirement already satisfied: wrapt>=1.11.0 in /usr/local/lib/python3.7/dist-packages (from tensorflow) (1.14.0)\n",
            "Requirement already satisfied: keras-preprocessing>=1.1.1 in /usr/local/lib/python3.7/dist-packages (from tensorflow) (1.1.2)\n",
            "Requirement already satisfied: protobuf>=3.9.2 in /usr/local/lib/python3.7/dist-packages (from tensorflow) (3.17.3)\n",
            "Requirement already satisfied: keras<2.9,>=2.8.0rc0 in /usr/local/lib/python3.7/dist-packages (from tensorflow) (2.8.0)\n",
            "Requirement already satisfied: six>=1.12.0 in /usr/local/lib/python3.7/dist-packages (from tensorflow) (1.15.0)\n",
            "Requirement already satisfied: setuptools in /usr/local/lib/python3.7/dist-packages (from tensorflow) (57.4.0)\n",
            "Requirement already satisfied: libclang>=9.0.1 in /usr/local/lib/python3.7/dist-packages (from tensorflow) (14.0.1)\n",
            "Requirement already satisfied: wheel<1.0,>=0.23.0 in /usr/local/lib/python3.7/dist-packages (from astunparse>=1.6.0->tensorflow) (0.37.1)\n",
            "Requirement already satisfied: cached-property in /usr/local/lib/python3.7/dist-packages (from h5py>=2.9.0->tensorflow) (1.5.2)\n",
            "Requirement already satisfied: google-auth-oauthlib<0.5,>=0.4.1 in /usr/local/lib/python3.7/dist-packages (from tensorboard<2.9,>=2.8->tensorflow) (0.4.6)\n",
            "Requirement already satisfied: requests<3,>=2.21.0 in /usr/local/lib/python3.7/dist-packages (from tensorboard<2.9,>=2.8->tensorflow) (2.23.0)\n",
            "Requirement already satisfied: tensorboard-plugin-wit>=1.6.0 in /usr/local/lib/python3.7/dist-packages (from tensorboard<2.9,>=2.8->tensorflow) (1.8.1)\n",
            "Requirement already satisfied: markdown>=2.6.8 in /usr/local/lib/python3.7/dist-packages (from tensorboard<2.9,>=2.8->tensorflow) (3.3.6)\n",
            "Requirement already satisfied: tensorboard-data-server<0.7.0,>=0.6.0 in /usr/local/lib/python3.7/dist-packages (from tensorboard<2.9,>=2.8->tensorflow) (0.6.1)\n",
            "Requirement already satisfied: google-auth<3,>=1.6.3 in /usr/local/lib/python3.7/dist-packages (from tensorboard<2.9,>=2.8->tensorflow) (1.35.0)\n",
            "Requirement already satisfied: werkzeug>=0.11.15 in /usr/local/lib/python3.7/dist-packages (from tensorboard<2.9,>=2.8->tensorflow) (1.0.1)\n",
            "Requirement already satisfied: cachetools<5.0,>=2.0.0 in /usr/local/lib/python3.7/dist-packages (from google-auth<3,>=1.6.3->tensorboard<2.9,>=2.8->tensorflow) (4.2.4)\n",
            "Requirement already satisfied: rsa<5,>=3.1.4 in /usr/local/lib/python3.7/dist-packages (from google-auth<3,>=1.6.3->tensorboard<2.9,>=2.8->tensorflow) (4.8)\n",
            "Requirement already satisfied: pyasn1-modules>=0.2.1 in /usr/local/lib/python3.7/dist-packages (from google-auth<3,>=1.6.3->tensorboard<2.9,>=2.8->tensorflow) (0.2.8)\n",
            "Requirement already satisfied: requests-oauthlib>=0.7.0 in /usr/local/lib/python3.7/dist-packages (from google-auth-oauthlib<0.5,>=0.4.1->tensorboard<2.9,>=2.8->tensorflow) (1.3.1)\n",
            "Requirement already satisfied: importlib-metadata>=4.4 in /usr/local/lib/python3.7/dist-packages (from markdown>=2.6.8->tensorboard<2.9,>=2.8->tensorflow) (4.11.3)\n",
            "Requirement already satisfied: zipp>=0.5 in /usr/local/lib/python3.7/dist-packages (from importlib-metadata>=4.4->markdown>=2.6.8->tensorboard<2.9,>=2.8->tensorflow) (3.8.0)\n",
            "Requirement already satisfied: pyasn1<0.5.0,>=0.4.6 in /usr/local/lib/python3.7/dist-packages (from pyasn1-modules>=0.2.1->google-auth<3,>=1.6.3->tensorboard<2.9,>=2.8->tensorflow) (0.4.8)\n",
            "Requirement already satisfied: chardet<4,>=3.0.2 in /usr/local/lib/python3.7/dist-packages (from requests<3,>=2.21.0->tensorboard<2.9,>=2.8->tensorflow) (3.0.4)\n",
            "Requirement already satisfied: certifi>=2017.4.17 in /usr/local/lib/python3.7/dist-packages (from requests<3,>=2.21.0->tensorboard<2.9,>=2.8->tensorflow) (2021.10.8)\n",
            "Requirement already satisfied: idna<3,>=2.5 in /usr/local/lib/python3.7/dist-packages (from requests<3,>=2.21.0->tensorboard<2.9,>=2.8->tensorflow) (2.10)\n",
            "Requirement already satisfied: urllib3!=1.25.0,!=1.25.1,<1.26,>=1.21.1 in /usr/local/lib/python3.7/dist-packages (from requests<3,>=2.21.0->tensorboard<2.9,>=2.8->tensorflow) (1.24.3)\n",
            "Requirement already satisfied: oauthlib>=3.0.0 in /usr/local/lib/python3.7/dist-packages (from requests-oauthlib>=0.7.0->google-auth-oauthlib<0.5,>=0.4.1->tensorboard<2.9,>=2.8->tensorflow) (3.2.0)\n",
            "Installing collected packages: tf-estimator-nightly\n",
            "Successfully installed tf-estimator-nightly-2.8.0.dev2021122109\n"
          ]
        }
      ]
    },
    {
      "cell_type": "code",
      "source": [
        "!unzip '/content/gdrive/MyDrive/dataset/custom-dataset.zip' -d 'custom-dataset'"
      ],
      "metadata": {
        "colab": {
          "base_uri": "https://localhost:8080/"
        },
        "id": "4pSYlYKvqHTl",
        "outputId": "cd770567-c2f0-464d-80c2-c5fc6695b55d"
      },
      "execution_count": 5,
      "outputs": [
        {
          "output_type": "stream",
          "name": "stdout",
          "text": [
            "Archive:  /content/gdrive/MyDrive/dataset/custom-dataset.zip\n",
            "  inflating: custom-dataset/custom-dataset/mask (1).jpg  \n",
            "  inflating: custom-dataset/custom-dataset/mask (10).jpg  \n",
            "  inflating: custom-dataset/custom-dataset/mask (100).jpg  \n",
            "  inflating: custom-dataset/custom-dataset/mask (101).jpg  \n",
            "  inflating: custom-dataset/custom-dataset/mask (102).jpg  \n",
            "  inflating: custom-dataset/custom-dataset/mask (103).jpg  \n",
            "  inflating: custom-dataset/custom-dataset/mask (104).jpg  \n",
            "  inflating: custom-dataset/custom-dataset/mask (105).jpg  \n",
            "  inflating: custom-dataset/custom-dataset/mask (106).jpg  \n",
            "  inflating: custom-dataset/custom-dataset/mask (107).jpg  \n",
            "  inflating: custom-dataset/custom-dataset/mask (108).jpg  \n",
            "  inflating: custom-dataset/custom-dataset/mask (109).jpg  \n",
            "  inflating: custom-dataset/custom-dataset/mask (11).jpg  \n",
            "  inflating: custom-dataset/custom-dataset/mask (110).jpg  \n",
            "  inflating: custom-dataset/custom-dataset/mask (111).jpg  \n",
            "  inflating: custom-dataset/custom-dataset/mask (112).jpg  \n",
            "  inflating: custom-dataset/custom-dataset/mask (113).jpg  \n",
            "  inflating: custom-dataset/custom-dataset/mask (114).jpg  \n",
            "  inflating: custom-dataset/custom-dataset/mask (115).jpg  \n",
            "  inflating: custom-dataset/custom-dataset/mask (116).jpg  \n",
            "  inflating: custom-dataset/custom-dataset/mask (117).jpg  \n",
            "  inflating: custom-dataset/custom-dataset/mask (118).jpg  \n",
            "  inflating: custom-dataset/custom-dataset/mask (119).jpg  \n",
            "  inflating: custom-dataset/custom-dataset/mask (12).jpg  \n",
            "  inflating: custom-dataset/custom-dataset/mask (120).jpg  \n",
            "  inflating: custom-dataset/custom-dataset/mask (121).jpg  \n",
            "  inflating: custom-dataset/custom-dataset/mask (122).jpg  \n",
            "  inflating: custom-dataset/custom-dataset/mask (123).jpg  \n",
            "  inflating: custom-dataset/custom-dataset/mask (124).jpg  \n",
            "  inflating: custom-dataset/custom-dataset/mask (125).jpg  \n",
            "  inflating: custom-dataset/custom-dataset/mask (126).jpg  \n",
            "  inflating: custom-dataset/custom-dataset/mask (127).jpg  \n",
            "  inflating: custom-dataset/custom-dataset/mask (128).jpg  \n",
            "  inflating: custom-dataset/custom-dataset/mask (129).jpg  \n",
            "  inflating: custom-dataset/custom-dataset/mask (13).jpg  \n",
            "  inflating: custom-dataset/custom-dataset/mask (130).jpg  \n",
            "  inflating: custom-dataset/custom-dataset/mask (131).jpg  \n",
            "  inflating: custom-dataset/custom-dataset/mask (132).jpg  \n",
            "  inflating: custom-dataset/custom-dataset/mask (133).jpg  \n",
            "  inflating: custom-dataset/custom-dataset/mask (134).jpg  \n",
            "  inflating: custom-dataset/custom-dataset/mask (135).jpg  \n",
            "  inflating: custom-dataset/custom-dataset/mask (136).jpg  \n",
            "  inflating: custom-dataset/custom-dataset/mask (137).jpg  \n",
            "  inflating: custom-dataset/custom-dataset/mask (138).jpg  \n",
            "  inflating: custom-dataset/custom-dataset/mask (139).jpg  \n",
            "  inflating: custom-dataset/custom-dataset/mask (14).jpg  \n",
            "  inflating: custom-dataset/custom-dataset/mask (140).jpg  \n",
            "  inflating: custom-dataset/custom-dataset/mask (141).jpg  \n",
            "  inflating: custom-dataset/custom-dataset/mask (142).jpg  \n",
            "  inflating: custom-dataset/custom-dataset/mask (143).jpg  \n",
            "  inflating: custom-dataset/custom-dataset/mask (144).jpg  \n",
            "  inflating: custom-dataset/custom-dataset/mask (145).jpg  \n",
            "  inflating: custom-dataset/custom-dataset/mask (146).jpg  \n",
            "  inflating: custom-dataset/custom-dataset/mask (147).jpg  \n",
            "  inflating: custom-dataset/custom-dataset/mask (148).jpg  \n",
            "  inflating: custom-dataset/custom-dataset/mask (149).jpg  \n",
            "  inflating: custom-dataset/custom-dataset/mask (15).jpg  \n",
            "  inflating: custom-dataset/custom-dataset/mask (150).jpg  \n",
            "  inflating: custom-dataset/custom-dataset/mask (151).jpg  \n",
            "  inflating: custom-dataset/custom-dataset/mask (152).jpg  \n",
            "  inflating: custom-dataset/custom-dataset/mask (153).jpg  \n",
            "  inflating: custom-dataset/custom-dataset/mask (154).jpg  \n",
            "  inflating: custom-dataset/custom-dataset/mask (155).jpg  \n",
            "  inflating: custom-dataset/custom-dataset/mask (156).jpg  \n",
            "  inflating: custom-dataset/custom-dataset/mask (157).jpg  \n",
            "  inflating: custom-dataset/custom-dataset/mask (158).jpg  \n",
            "  inflating: custom-dataset/custom-dataset/mask (159).jpg  \n",
            "  inflating: custom-dataset/custom-dataset/mask (16).jpg  \n",
            "  inflating: custom-dataset/custom-dataset/mask (160).jpg  \n",
            "  inflating: custom-dataset/custom-dataset/mask (161).jpg  \n",
            "  inflating: custom-dataset/custom-dataset/mask (162).jpg  \n",
            "  inflating: custom-dataset/custom-dataset/mask (163).jpg  \n",
            "  inflating: custom-dataset/custom-dataset/mask (164).jpg  \n",
            "  inflating: custom-dataset/custom-dataset/mask (165).jpg  \n",
            "  inflating: custom-dataset/custom-dataset/mask (166).jpg  \n",
            "  inflating: custom-dataset/custom-dataset/mask (167).jpg  \n",
            "  inflating: custom-dataset/custom-dataset/mask (168).jpg  \n",
            "  inflating: custom-dataset/custom-dataset/mask (17).jpg  \n",
            "  inflating: custom-dataset/custom-dataset/mask (18).jpg  \n",
            "  inflating: custom-dataset/custom-dataset/mask (19).jpg  \n",
            "  inflating: custom-dataset/custom-dataset/mask (2).jpg  \n",
            "  inflating: custom-dataset/custom-dataset/mask (20).jpg  \n",
            "  inflating: custom-dataset/custom-dataset/mask (21).jpg  \n",
            "  inflating: custom-dataset/custom-dataset/mask (22).jpg  \n",
            "  inflating: custom-dataset/custom-dataset/mask (23).jpg  \n",
            "  inflating: custom-dataset/custom-dataset/mask (24).jpg  \n",
            "  inflating: custom-dataset/custom-dataset/mask (25).jpg  \n",
            "  inflating: custom-dataset/custom-dataset/mask (26).jpg  \n",
            "  inflating: custom-dataset/custom-dataset/mask (27).jpg  \n",
            "  inflating: custom-dataset/custom-dataset/mask (28).jpg  \n",
            "  inflating: custom-dataset/custom-dataset/mask (29).jpg  \n",
            "  inflating: custom-dataset/custom-dataset/mask (3).jpg  \n",
            "  inflating: custom-dataset/custom-dataset/mask (30).jpg  \n",
            "  inflating: custom-dataset/custom-dataset/mask (31).jpg  \n",
            "  inflating: custom-dataset/custom-dataset/mask (32).jpg  \n",
            "  inflating: custom-dataset/custom-dataset/mask (33).jpg  \n",
            "  inflating: custom-dataset/custom-dataset/mask (34).jpg  \n",
            "  inflating: custom-dataset/custom-dataset/mask (35).jpg  \n",
            "  inflating: custom-dataset/custom-dataset/mask (36).jpg  \n",
            "  inflating: custom-dataset/custom-dataset/mask (37).jpg  \n",
            "  inflating: custom-dataset/custom-dataset/mask (38).jpg  \n",
            "  inflating: custom-dataset/custom-dataset/mask (39).jpg  \n",
            "  inflating: custom-dataset/custom-dataset/mask (4).jpg  \n",
            "  inflating: custom-dataset/custom-dataset/mask (40).jpg  \n",
            "  inflating: custom-dataset/custom-dataset/mask (41).jpg  \n",
            "  inflating: custom-dataset/custom-dataset/mask (42).jpg  \n",
            "  inflating: custom-dataset/custom-dataset/mask (43).jpg  \n",
            "  inflating: custom-dataset/custom-dataset/mask (44).jpg  \n",
            "  inflating: custom-dataset/custom-dataset/mask (45).jpg  \n",
            "  inflating: custom-dataset/custom-dataset/mask (46).jpg  \n",
            "  inflating: custom-dataset/custom-dataset/mask (47).jpg  \n",
            "  inflating: custom-dataset/custom-dataset/mask (48).jpg  \n",
            "  inflating: custom-dataset/custom-dataset/mask (49).jpg  \n",
            "  inflating: custom-dataset/custom-dataset/mask (5).jpg  \n",
            "  inflating: custom-dataset/custom-dataset/mask (50).jpg  \n",
            "  inflating: custom-dataset/custom-dataset/mask (51).jpg  \n",
            "  inflating: custom-dataset/custom-dataset/mask (52).jpg  \n",
            "  inflating: custom-dataset/custom-dataset/mask (53).jpg  \n",
            "  inflating: custom-dataset/custom-dataset/mask (54).jpg  \n",
            "  inflating: custom-dataset/custom-dataset/mask (55).jpg  \n",
            "  inflating: custom-dataset/custom-dataset/mask (56).jpg  \n",
            "  inflating: custom-dataset/custom-dataset/mask (57).jpg  \n",
            "  inflating: custom-dataset/custom-dataset/mask (58).jpg  \n",
            "  inflating: custom-dataset/custom-dataset/mask (59).jpg  \n",
            "  inflating: custom-dataset/custom-dataset/mask (6).jpg  \n",
            "  inflating: custom-dataset/custom-dataset/mask (60).jpg  \n",
            "  inflating: custom-dataset/custom-dataset/mask (61).jpg  \n",
            "  inflating: custom-dataset/custom-dataset/mask (62).jpg  \n",
            "  inflating: custom-dataset/custom-dataset/mask (63).jpg  \n",
            "  inflating: custom-dataset/custom-dataset/mask (64).jpg  \n",
            "  inflating: custom-dataset/custom-dataset/mask (65).jpg  \n",
            "  inflating: custom-dataset/custom-dataset/mask (66).jpg  \n",
            "  inflating: custom-dataset/custom-dataset/mask (67).jpg  \n",
            "  inflating: custom-dataset/custom-dataset/mask (68).jpg  \n",
            "  inflating: custom-dataset/custom-dataset/mask (69).jpg  \n",
            "  inflating: custom-dataset/custom-dataset/mask (7).jpg  \n",
            "  inflating: custom-dataset/custom-dataset/mask (70).jpg  \n",
            "  inflating: custom-dataset/custom-dataset/mask (71).jpg  \n",
            "  inflating: custom-dataset/custom-dataset/mask (72).jpg  \n",
            "  inflating: custom-dataset/custom-dataset/mask (73).jpg  \n",
            "  inflating: custom-dataset/custom-dataset/mask (74).jpg  \n",
            "  inflating: custom-dataset/custom-dataset/mask (75).jpg  \n",
            "  inflating: custom-dataset/custom-dataset/mask (76).jpg  \n",
            "  inflating: custom-dataset/custom-dataset/mask (77).jpg  \n",
            "  inflating: custom-dataset/custom-dataset/mask (78).jpg  \n",
            "  inflating: custom-dataset/custom-dataset/mask (79).jpg  \n",
            "  inflating: custom-dataset/custom-dataset/mask (8).jpg  \n",
            "  inflating: custom-dataset/custom-dataset/mask (80).jpg  \n",
            "  inflating: custom-dataset/custom-dataset/mask (81).jpg  \n",
            "  inflating: custom-dataset/custom-dataset/mask (82).jpg  \n",
            "  inflating: custom-dataset/custom-dataset/mask (83).jpg  \n",
            "  inflating: custom-dataset/custom-dataset/mask (84).jpg  \n",
            "  inflating: custom-dataset/custom-dataset/mask (85).jpg  \n",
            "  inflating: custom-dataset/custom-dataset/mask (86).jpg  \n",
            "  inflating: custom-dataset/custom-dataset/mask (87).jpg  \n",
            "  inflating: custom-dataset/custom-dataset/mask (88).jpg  \n",
            "  inflating: custom-dataset/custom-dataset/mask (89).jpg  \n",
            "  inflating: custom-dataset/custom-dataset/mask (9).jpg  \n",
            "  inflating: custom-dataset/custom-dataset/mask (90).jpg  \n",
            "  inflating: custom-dataset/custom-dataset/mask (91).jpg  \n",
            "  inflating: custom-dataset/custom-dataset/mask (92).jpg  \n",
            "  inflating: custom-dataset/custom-dataset/mask (93).jpg  \n",
            "  inflating: custom-dataset/custom-dataset/mask (94).jpg  \n",
            "  inflating: custom-dataset/custom-dataset/mask (95).jpg  \n",
            "  inflating: custom-dataset/custom-dataset/mask (96).jpg  \n",
            "  inflating: custom-dataset/custom-dataset/mask (97).jpg  \n",
            "  inflating: custom-dataset/custom-dataset/mask (98).jpg  \n",
            "  inflating: custom-dataset/custom-dataset/mask (99).jpg  \n"
          ]
        }
      ]
    },
    {
      "cell_type": "code",
      "source": [
        "from keras.preprocessing.image import ImageDataGenerator"
      ],
      "metadata": {
        "id": "Rjt9IIAlNmek"
      },
      "execution_count": 6,
      "outputs": []
    },
    {
      "cell_type": "code",
      "source": [
        "datagen = ImageDataGenerator(\n",
        "        rescale = 1./255,\n",
        "        rotation_range=5,\n",
        "        horizontal_flip=True)"
      ],
      "metadata": {
        "id": "7eCnst-JNqZD"
      },
      "execution_count": 8,
      "outputs": []
    },
    {
      "cell_type": "code",
      "source": [
        "DATASET_PATH = '/content/custom-dataset'\n",
        "BATCH_SIZE = 32\n",
        "IMG_SIZE = (224, 224)\n",
        "\n",
        "# RETURNS a DirectoryIterator yielding tuples of (x, y) \n",
        "# where x is a numpy array containing a batch of images with shape (batch_size, *target_size, channels) \n",
        "# and y is a numpy array of corresponding labels.\n",
        "i=0\n",
        "for batch in datagen.flow_from_directory(\n",
        "\t   DATASET_PATH,\n",
        "     batch_size=BATCH_SIZE,\n",
        "     seed=9,\n",
        "\t   target_size=IMG_SIZE,\n",
        "     save_to_dir=DATASET_PATH + '/augmented',\n",
        "     save_prefix='aug',\n",
        "     save_format='jpg',):\n",
        "  i+=1\n",
        "  if i > BATCH_SIZE:\n",
        "    break"
      ],
      "metadata": {
        "colab": {
          "base_uri": "https://localhost:8080/"
        },
        "id": "xC6UicHuWMR1",
        "outputId": "f2cc1eae-6fac-4226-d4ac-446d7a5050ee"
      },
      "execution_count": 10,
      "outputs": [
        {
          "output_type": "stream",
          "name": "stdout",
          "text": [
            "Found 168 images belonging to 3 classes.\n"
          ]
        }
      ]
    },
    {
      "cell_type": "code",
      "source": [
        "import os\n",
        "aug_count = len(os.listdir('/content/custom-dataset/augmented'))\n",
        "orig_count = len(os.listdir('/content/custom-dataset/custom-dataset'))\n",
        "\n",
        "print('Original dataset = ' + str(orig_count))\n",
        "print('Augmented dataset = ' + str(aug_count))"
      ],
      "metadata": {
        "colab": {
          "base_uri": "https://localhost:8080/"
        },
        "id": "VxCO2SC6c5CU",
        "outputId": "0866b725-6800-45b7-e233-9f5aedef7362"
      },
      "execution_count": 15,
      "outputs": [
        {
          "output_type": "stream",
          "name": "stdout",
          "text": [
            "Original dataset = 168\n",
            "Augmented dataset = 936\n"
          ]
        }
      ]
    },
    {
      "cell_type": "markdown",
      "source": [
        "Visit: https://www.tensorflow.org/api_docs/python/tf/keras/preprocessing/image/ImageDataGenerator#flow_from_directory\n"
      ],
      "metadata": {
        "id": "cCHF9IQ4dpmp"
      }
    }
  ]
}